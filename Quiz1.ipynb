{
  "nbformat": 4,
  "nbformat_minor": 0,
  "metadata": {
    "colab": {
      "provenance": [],
      "authorship_tag": "ABX9TyMD0Hgdkn1itv6H5iZkIO95",
      "include_colab_link": true
    },
    "kernelspec": {
      "name": "python3",
      "display_name": "Python 3"
    },
    "language_info": {
      "name": "python"
    }
  },
  "cells": [
    {
      "cell_type": "markdown",
      "metadata": {
        "id": "view-in-github",
        "colab_type": "text"
      },
      "source": [
        "<a href=\"https://colab.research.google.com/github/Yemresalcan/veri/blob/quiz/Quiz1.ipynb\" target=\"_parent\"><img src=\"https://colab.research.google.com/assets/colab-badge.svg\" alt=\"Open In Colab\"/></a>"
      ]
    },
    {
      "cell_type": "code",
      "execution_count": null,
      "metadata": {
        "id": "RD7CvSX-eci_"
      },
      "outputs": [],
      "source": [
        "# 1) Asagidaki string'in 5. harfini bir degiskene atayiniz"
      ]
    },
    {
      "cell_type": "code",
      "source": [
        "my_string = \"Is Bankasi\""
      ],
      "metadata": {
        "id": "otRhysaAfGKr"
      },
      "execution_count": 1,
      "outputs": []
    },
    {
      "cell_type": "code",
      "source": [
        "atama = my_string[4]"
      ],
      "metadata": {
        "id": "BCbk5TzxfLj2"
      },
      "execution_count": 7,
      "outputs": []
    },
    {
      "cell_type": "code",
      "source": [
        "print(atama)"
      ],
      "metadata": {
        "colab": {
          "base_uri": "https://localhost:8080/"
        },
        "id": "vQq9L03tgARz",
        "outputId": "fe5d11e4-f090-4c76-8945-58f1e9e3a75a"
      },
      "execution_count": 9,
      "outputs": [
        {
          "output_type": "stream",
          "name": "stdout",
          "text": [
            "a\n"
          ]
        }
      ]
    },
    {
      "cell_type": "code",
      "source": [
        " #Asagidaki String'in 5. ve 8. karakteri arasindaki tum harflerini yazdiriniz (5 ve 8 dahil)\n"
      ],
      "metadata": {
        "id": "OeZ_TVBDgBGw"
      },
      "execution_count": 10,
      "outputs": []
    },
    {
      "cell_type": "code",
      "source": [
        "my_new_string = \"ProgramlamayaMerhabaDiyorum\"\n"
      ],
      "metadata": {
        "id": "10-gWB9RgR6y"
      },
      "execution_count": 11,
      "outputs": []
    },
    {
      "cell_type": "code",
      "source": [
        "print(my_new_string[4:8:])"
      ],
      "metadata": {
        "colab": {
          "base_uri": "https://localhost:8080/"
        },
        "id": "4k_LnB__gT1f",
        "outputId": "762ae04d-6fd1-48b9-984a-f2d1dc230717"
      },
      "execution_count": 44,
      "outputs": [
        {
          "output_type": "stream",
          "name": "stdout",
          "text": [
            "raml\n"
          ]
        }
      ]
    },
    {
      "cell_type": "code",
      "source": [
        "# 3) Asagidaki String'i kod ile tersten yazin\n"
      ],
      "metadata": {
        "id": "3GXBjy0Eg3lo"
      },
      "execution_count": null,
      "outputs": []
    },
    {
      "cell_type": "code",
      "source": [
        "my_last_string = \"Afyonkarahisarlilastiramadiklarimizdanmisiniz\""
      ],
      "metadata": {
        "id": "eBmrEQoag5jl"
      },
      "execution_count": 16,
      "outputs": []
    },
    {
      "cell_type": "code",
      "source": [
        "print(my_last_string[::-1])"
      ],
      "metadata": {
        "colab": {
          "base_uri": "https://localhost:8080/"
        },
        "id": "zsIQxE3Ag9Ce",
        "outputId": "b123df7c-1dff-4491-c60e-e55bc0b6097e"
      },
      "execution_count": 17,
      "outputs": [
        {
          "output_type": "stream",
          "name": "stdout",
          "text": [
            "zinisimnadzimiralkidamaritsalilrasiharaknoyfA\n"
          ]
        }
      ]
    },
    {
      "cell_type": "code",
      "source": [
        "islem=5 + 8 * 12\n",
        "\n",
        "print((islem))"
      ],
      "metadata": {
        "colab": {
          "base_uri": "https://localhost:8080/"
        },
        "id": "RvdcnG3hii8Y",
        "outputId": "5336b917-8de6-4e77-81b6-18ef7c53a38e"
      },
      "execution_count": 20,
      "outputs": [
        {
          "output_type": "stream",
          "name": "stdout",
          "text": [
            "101\n"
          ]
        }
      ]
    },
    {
      "cell_type": "code",
      "source": [
        "# 6) Bu listeyi en az 2 farkli yoldan olusturunuz: [4,8,\"b\"]"
      ],
      "metadata": {
        "id": "81xTwGswiyeu"
      },
      "execution_count": null,
      "outputs": []
    },
    {
      "cell_type": "code",
      "source": [
        "list = [4,8,\"b\"]\n",
        "my_list = []\n",
        "my_list.append(4)\n",
        "my_list.append(8)\n",
        "my_list.append(\"b\")\n",
        "print(my_list)"
      ],
      "metadata": {
        "colab": {
          "base_uri": "https://localhost:8080/"
        },
        "id": "jWxeftnCizOV",
        "outputId": "ff4834ea-4e81-4f01-809b-ed065fd9da22"
      },
      "execution_count": 21,
      "outputs": [
        {
          "output_type": "stream",
          "name": "stdout",
          "text": [
            "[4, 8, 'b']\n"
          ]
        }
      ]
    },
    {
      "cell_type": "code",
      "source": [
        "# 7) Asagidaki \"a\"'yi tek satirda aliniz:\n",
        "my_list = [1,4,[2,3,\"a\"]]"
      ],
      "metadata": {
        "id": "-VWXOoNPjNXV"
      },
      "execution_count": 22,
      "outputs": []
    },
    {
      "cell_type": "code",
      "source": [
        "my_list[2][2]"
      ],
      "metadata": {
        "colab": {
          "base_uri": "https://localhost:8080/",
          "height": 36
        },
        "id": "rZCh1Q23jT3R",
        "outputId": "c5e27d3a-aed3-4880-aa0e-160cd9b35d9c"
      },
      "execution_count": 23,
      "outputs": [
        {
          "output_type": "execute_result",
          "data": {
            "text/plain": [
              "'a'"
            ],
            "application/vnd.google.colaboratory.intrinsic+json": {
              "type": "string"
            }
          },
          "metadata": {},
          "execution_count": 23
        }
      ]
    },
    {
      "cell_type": "code",
      "source": [
        "# 8) Asagidaki \"b\"'yi tek satirda aliniz:\n",
        "my_dictionary = {\"k1\":2, \"kk\":[4,{\"kkkk\":\"b\"}]}"
      ],
      "metadata": {
        "id": "pa-xUqmejnep"
      },
      "execution_count": 33,
      "outputs": []
    },
    {
      "cell_type": "code",
      "source": [
        "b_value = my_dictionary[\"kk\"][1][\"kkkk\"]\n",
        "print(b_value)"
      ],
      "metadata": {
        "colab": {
          "base_uri": "https://localhost:8080/"
        },
        "id": "xDyKFN9ajr15",
        "outputId": "fd5de08a-d8b5-4793-86c0-4c3e9adfc625"
      },
      "execution_count": 37,
      "outputs": [
        {
          "output_type": "stream",
          "name": "stdout",
          "text": [
            "b\n"
          ]
        }
      ]
    },
    {
      "cell_type": "code",
      "source": [
        "# 9) Asagidaki liste set'e cevirilince hangi degerler icinde kalacaktir?\n",
        "my_list_to_be_set = [11,12,22,33,11,22,45,32,21,22,33,45]"
      ],
      "metadata": {
        "id": "hHkBVPi1kMJD"
      },
      "execution_count": 38,
      "outputs": []
    },
    {
      "cell_type": "code",
      "source": [
        "my_set = set(my_list_to_be_set)\n",
        "print(my_set)"
      ],
      "metadata": {
        "colab": {
          "base_uri": "https://localhost:8080/"
        },
        "id": "O0aNEQuNnAn4",
        "outputId": "17d9a0e8-9d0b-4626-8873-14716b4c7d94"
      },
      "execution_count": 40,
      "outputs": [
        {
          "output_type": "stream",
          "name": "stdout",
          "text": [
            "{32, 33, 11, 12, 45, 21, 22}\n"
          ]
        }
      ]
    },
    {
      "cell_type": "code",
      "source": [
        "# 10) Asagidaki ifadenin sonucu ne olacaktir?\n",
        "x = 40 * 5 + 3\n",
        "y = 208 - 2 * 4\n",
        "print(x)\n",
        "print(y),\n",
        "x>y"
      ],
      "metadata": {
        "colab": {
          "base_uri": "https://localhost:8080/"
        },
        "id": "fvmnCkVRnSsz",
        "outputId": "975602b7-74ec-469d-f00d-bcad53466648"
      },
      "execution_count": 43,
      "outputs": [
        {
          "output_type": "stream",
          "name": "stdout",
          "text": [
            "203\n",
            "200\n"
          ]
        },
        {
          "output_type": "execute_result",
          "data": {
            "text/plain": [
              "True"
            ]
          },
          "metadata": {},
          "execution_count": 43
        }
      ]
    }
  ]
}